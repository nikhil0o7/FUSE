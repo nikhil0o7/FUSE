{
 "cells": [
  {
   "cell_type": "code",
   "execution_count": 9,
   "id": "65025316",
   "metadata": {},
   "outputs": [],
   "source": [
    "import os\n",
    "import errno\n",
    "import stat\n",
    "import sys\n",
    "\n",
    "from fuse import FUSE, Operations, FuseOSError\n",
    "from google.cloud import storage\n",
    "from google.cloud.storage.blob import Blob\n",
    "from google.api_core.exceptions import NotFound\n",
    "\n",
    "class GCSFS(Operations):\n",
    "    def __init__(self, bucket_name):\n",
    "        self.client = storage.Client()\n",
    "        self.bucket = self.client.bucket(bucket_name)\n",
    "        self.fd = 0\n",
    "        self.open_files = {}\n",
    "\n",
    "\n",
    "    def create(self, path, mode):\n",
    "        # Create an empty file\n",
    "        blob = self.bucket.blob(path.lstrip('/'))\n",
    "        blob.upload_from_string('')\n",
    "        return 0\n",
    "    \n",
    "    def close(self, fh):\n",
    "        if fh in self.open_files:\n",
    "            # Perform any necessary operations to 'close' the file, if applicable\n",
    "            del self.open_files[fh]\n",
    "\n",
    "    def open(self, path, flags):\n",
    "        \"\"\"Open a file. This increments and returns a pseudo-file descriptor.\"\"\"\n",
    "        self.fd += 1\n",
    "        self.open_files[self.fd] = {'path': path, 'offset': 0, 'flags': flags}\n",
    "        return self.fd\n",
    "\n",
    "    def read(self, size, fh):\n",
    "        # Check if the file handle exists and get the associated path and offset\n",
    "        if fh not in self.open_files:\n",
    "            raise FuseOSError(errno.EBADF)  # Bad file descriptor error\n",
    "\n",
    "        file_info = self.open_files[fh]\n",
    "        path = file_info['path']\n",
    "        current_offset = 0\n",
    "\n",
    "        blob = self.bucket.blob(path.lstrip('/'))\n",
    "        file_data = blob.download_as_string()\n",
    "\n",
    "        # Read the requested data\n",
    "        read_data = file_data[current_offset:current_offset + size]\n",
    "\n",
    "        # Update the offset for this file handle\n",
    "        self.open_files[fh]['offset'] += len(read_data)\n",
    "\n",
    "        return read_data\n",
    "\n",
    "    def mkdir(self, path, mode):\n",
    "        \"\"\"Create a directory (folder) at path.\"\"\"\n",
    "        # Append a '/' to the path if not present to signify a directory\n",
    "        if not path.endswith('/'):\n",
    "            path += '/'\n",
    "        # Create the folder\n",
    "        blob = self.bucket.blob(path.lstrip('/'))\n",
    "        try:\n",
    "            blob.upload_from_string('')\n",
    "            return True\n",
    "        except Exception as e:\n",
    "            print(f\"An error occurred: {e}\")\n",
    "            return False\n",
    "        \n",
    "    def opendir(self, path):\n",
    "        print(path)\n",
    "        \"\"\"Open a directory. This is mostly for compatibility; 'opendir' itself does not track state.\"\"\"\n",
    "        # Ensure path ends with '/' and remove leading '/'\n",
    "        if not path.endswith('/'):\n",
    "            path += '/'\n",
    "        path = path.lstrip('/')\n",
    "        # Check if directory exists\n",
    "        if self.bucket.get_blob(path) or path == \"\":\n",
    "            self.fd += 1\n",
    "            self.open_files[self.fd] = {'path': path, 'flags': os.O_RDONLY}\n",
    "            return self.fd\n",
    "        else:\n",
    "            raise FuseOSError(errno.ENOENT)\n",
    "\n",
    "    def readdir(self, path, fh):\n",
    "        \"\"\"Read a directory. Returns a list of directory contents.\"\"\"\n",
    "        # Ensure path ends with '/' and remove leading '/'\n",
    "        if not path.endswith('/'):\n",
    "            path += '/'\n",
    "        path = path.lstrip('/')\n",
    "        # Retrieve all blobs with the prefix of the directory\n",
    "        iterator = self.bucket.list_blobs(prefix=path, delimiter='/')\n",
    "        blobs = list(iterator)\n",
    "        # Use iterator.prefixes to get the set of unique prefixes (subdirectories)\n",
    "        prefixes = set(iterator.prefixes)\n",
    "        # Get the names of all the files and directories\n",
    "        contents = ['.', '..']  # Default entries\n",
    "        for blob in blobs:\n",
    "            name = os.path.basename(blob.name)\n",
    "            if name:  # Avoid adding empty names which occur with objects that end with '/'\n",
    "                contents.append(name)\n",
    "        # Add the prefixes (subdirectories) as well\n",
    "        for prefix in prefixes:\n",
    "            contents.append(os.path.basename(prefix.rstrip('/')))\n",
    "        return contents\n",
    "\n",
    "    def remove_directory_contents(self, directory_path):\n",
    "        blobs = self.bucket.list_blobs(prefix=directory_path)\n",
    "        for blob in blobs:\n",
    "            self.bucket.delete_blob(blob.name)\n",
    "            print(f\"Deleted: {blob.name}\")\n",
    "\n",
    "    def rmdir(self, path):\n",
    "        directory_path = path.strip('/') + '/'  # Ensure correct directory path format\n",
    "        try:\n",
    "            # Check if the directory is not empty\n",
    "            blobs = list(self.bucket.list_blobs(prefix=directory_path))\n",
    "            if any(blob.name != directory_path for blob in blobs):\n",
    "                print(f\"Directory {path} is not empty, deleting all the files in the give dir\")\n",
    "                # Here you can decide whether to call remove_directory_contents or not\n",
    "                # Uncomment the next line to remove all contents inside the directory\n",
    "                self.remove_directory_contents(directory_path)\n",
    "                return\n",
    "#                 raise FuseOSError(errno.ENOTEMPTY)  # Directory not empty error\n",
    "\n",
    "            # If the directory marker exists, delete it\n",
    "            directory_blob = self.bucket.blob(directory_path)\n",
    "            if directory_blob.exists():\n",
    "                self.bucket.delete_blob(directory_blob.name)\n",
    "                print(f\"Deleted directory marker for {path}\")\n",
    "            else:\n",
    "                print(f\"Directory {path} does not exist or is already deleted.\")\n",
    "                raise FuseOSError(errno.ENOENT)  # No such file or directory error\n",
    "\n",
    "        except NotFound:\n",
    "            # The directory does not exist in GCS\n",
    "            print(f\"Directory {path} does not exist.\")\n",
    "            raise FuseOSError(errno.ENOENT)  # No such file or directory error\n",
    "        except Exception as e:\n",
    "            # Handle other exceptions\n",
    "            print(f\"Unexpected error: {e}\")\n",
    "            raise FuseOSError(errno.EIO)  # Input/output error\n",
    "\n",
    "    \n",
    "    def write(self, data, fh):\n",
    "        # Check if the file handle exists and get the associated path and offset\n",
    "        if fh not in self.open_files:\n",
    "            raise FuseOSError(errno.EBADF)  # Bad file descriptor error\n",
    "\n",
    "        file_info = self.open_files[fh]\n",
    "        path = file_info['path']\n",
    "        offset = file_info['offset']\n",
    "\n",
    "        blob = self.bucket.blob(path.lstrip('/'))\n",
    "\n",
    "        # Since GCS doesn't support partial writes, we need to read-modify-write\n",
    "        existing_data = blob.download_as_string()\n",
    "        # This assumes that the offset given by the write call is to be respected\n",
    "        # (i.e., if the file is opened in 'append' mode, this may not be correct)\n",
    "        new_data = existing_data[:offset] + data + existing_data[offset + len(data):]\n",
    "\n",
    "        blob.upload_from_string(new_data)\n",
    "\n",
    "        # Update the offset for this file handle\n",
    "        self.open_files[fh]['offset'] += len(data)\n",
    "\n",
    "        return len(data)\n",
    "\n",
    "\n",
    "    def truncate(self, path, length, fh=None):\n",
    "        blob = self.bucket.blob(path.lstrip('/'))\n",
    "        file_data = blob.download_as_string()\n",
    "        truncated_data = file_data[:length]\n",
    "        blob.upload_from_string(truncated_data)\n",
    "\n",
    "    def unlink(self, path):\n",
    "        blob = self.bucket.blob(path.lstrip('/'))\n",
    "        blob.delete()\n",
    "\n",
    "    def rename(self, old, new):\n",
    "        try:\n",
    "            old_blob = self.bucket.blob(old.lstrip('/'))\n",
    "            new_blob = self.bucket.blob(new.lstrip('/'))\n",
    "\n",
    "            # Copy the old blob to the new location\n",
    "            new_blob = self.bucket.copy_blob(old_blob, self.bucket, new_blob.name)\n",
    "\n",
    "            # If the copy is successful, delete the old blob\n",
    "            if new_blob:\n",
    "                old_blob.delete()\n",
    "            print(f\"Renamed {old} to {new}.\")\n",
    "        except Exception as e:\n",
    "            print(f\"Failed to rename {old} to {new}: {e}\")\n",
    "            raise"
   ]
  },
  {
   "cell_type": "code",
   "execution_count": 10,
   "id": "9fbd18e5",
   "metadata": {},
   "outputs": [],
   "source": [
    "import threading"
   ]
  },
  {
   "cell_type": "code",
   "execution_count": 11,
   "id": "3bd571f1",
   "metadata": {},
   "outputs": [],
   "source": [
    "mountpoint = './mnt'\n",
    "bucket_name = 'fuse_ecc'\n",
    "\n",
    "# Ensure that the mountpoint is available\n",
    "if not os.path.isdir(mountpoint):\n",
    "    os.makedirs(mountpoint)"
   ]
  },
  {
   "cell_type": "code",
   "execution_count": 12,
   "id": "54f3c2ec",
   "metadata": {},
   "outputs": [],
   "source": [
    "def start_fuse(mountpoint, bucket_name):\n",
    "    FUSE(GCSFS(bucket_name), mountpoint, nothreads=False, foreground=True)"
   ]
  },
  {
   "cell_type": "code",
   "execution_count": 13,
   "id": "05b8649b",
   "metadata": {},
   "outputs": [
    {
     "name": "stderr",
     "output_type": "stream",
     "text": [
      "mount_macfuse: mount point /Users/nikhilsrirangam/Desktop/sem-3/ECC/FUSE/mnt is itself on a macFUSE volumeException in thread Thread-6:\n",
      "Traceback (most recent call last):\n",
      "  File \"/opt/homebrew/Cellar/python@3.9/3.9.18/Frameworks/Python.framework/Versions/3.9/lib/python3.9/threading.py\", line 980, in _bootstrap_inner\n",
      "\n",
      "    self.run()\n",
      "  File \"/opt/homebrew/Cellar/python@3.9/3.9.18/Frameworks/Python.framework/Versions/3.9/lib/python3.9/threading.py\", line 917, in run\n",
      "    self._target(*self._args, **self._kwargs)\n",
      "  File \"/var/folders/j1/51l5z9qj33j34fr_93904_0c0000gn/T/ipykernel_25665/996168660.py\", line 2, in start_fuse\n",
      "  File \"/opt/homebrew/lib/python3.9/site-packages/fuse.py\", line 711, in __init__\n",
      "    raise RuntimeError(err)\n",
      "RuntimeError: 1\n"
     ]
    }
   ],
   "source": [
    "fuse_thread = threading.Thread(target=start_fuse, args=(mountpoint, bucket_name))\n",
    "fuse_thread.daemon = True  # Allows the notebook to shut down without explicitly stopping the thread\n",
    "fuse_thread.start()"
   ]
  },
  {
   "cell_type": "code",
   "execution_count": 14,
   "id": "523a32f0",
   "metadata": {},
   "outputs": [],
   "source": [
    "fs = GCSFS(\"fuse_ecc\")"
   ]
  },
  {
   "cell_type": "code",
   "execution_count": null,
   "id": "f64e4259",
   "metadata": {},
   "outputs": [],
   "source": []
  },
  {
   "cell_type": "code",
   "execution_count": 15,
   "id": "782f85ff",
   "metadata": {},
   "outputs": [
    {
     "name": "stdout",
     "output_type": "stream",
     "text": [
      "Directory /mnt/test/ created successfully.\n",
      "/mnt/test/\n",
      "Directory /mnt/test/ opened with fd 1.\n",
      "Contents of directory: ['.', '..']\n"
     ]
    }
   ],
   "source": [
    "# Try to make a new directory\n",
    "path = \"/mnt/test/\"\n",
    "mode = 0o777  # Not used in this implementation, but required by the method signature\n",
    "if fs.mkdir(path, mode):\n",
    "    print(f\"Directory {path} created successfully.\")\n",
    "else:\n",
    "    print(f\"Failed to create directory {path}.\")\n",
    "\n",
    "# Open the directory\n",
    "fd = fs.opendir(path)\n",
    "print(f\"Directory {path} opened with fd {fd}.\")\n",
    "\n",
    "# Read the directory contents\n",
    "contents = fs.readdir(path, fd)\n",
    "print(\"Contents of directory:\", contents)\n"
   ]
  },
  {
   "cell_type": "code",
   "execution_count": 8,
   "id": "35ba6dc9",
   "metadata": {},
   "outputs": [
    {
     "data": {
      "text/plain": [
       "0"
      ]
     },
     "execution_count": 8,
     "metadata": {},
     "output_type": "execute_result"
    }
   ],
   "source": [
    "mode = 0o777\n",
    "f = \"/mnt/tt/tt.txt\"\n",
    "# Call create on the fs instance to create the file\n",
    "fs.create(f, mode)"
   ]
  },
  {
   "cell_type": "code",
   "execution_count": null,
   "id": "b9742734",
   "metadata": {},
   "outputs": [],
   "source": []
  },
  {
   "cell_type": "code",
   "execution_count": null,
   "id": "bd8b1d28",
   "metadata": {},
   "outputs": [],
   "source": []
  },
  {
   "cell_type": "code",
   "execution_count": 34,
   "id": "1082b949",
   "metadata": {},
   "outputs": [
    {
     "name": "stdout",
     "output_type": "stream",
     "text": [
      "Directory /mnt/tt/ created successfully.\n"
     ]
    }
   ],
   "source": [
    "path = \"/mnt/tt/\"\n",
    "mode = 0o777  # Not used in this implementation, but required by the method signature\n",
    "if fs.mkdir(path, mode):\n",
    "    print(f\"Directory {path} created successfully.\")\n",
    "else:\n",
    "    print(f\"Failed to create directory {path}.\")"
   ]
  },
  {
   "cell_type": "code",
   "execution_count": 35,
   "id": "14520cd2",
   "metadata": {},
   "outputs": [
    {
     "data": {
      "text/plain": [
       "0"
      ]
     },
     "execution_count": 35,
     "metadata": {},
     "output_type": "execute_result"
    }
   ],
   "source": [
    "mode = 0o777\n",
    "f = \"/mnt/tt/tt.txt\"\n",
    "# Call create on the fs instance to create the file\n",
    "fs.create(f, mode)"
   ]
  },
  {
   "cell_type": "code",
   "execution_count": 36,
   "id": "0f9b3010",
   "metadata": {},
   "outputs": [
    {
     "name": "stdout",
     "output_type": "stream",
     "text": [
      "Directory /mnt/tt/ is not empty, deleting all the files in the give dir\n",
      "Deleted: mnt/tt/\n",
      "Deleted: mnt/tt/tt.txt\n"
     ]
    }
   ],
   "source": [
    "path = \"/mnt/tt/\"\n",
    "fs.rmdir(path)"
   ]
  },
  {
   "cell_type": "code",
   "execution_count": 37,
   "id": "11acd126",
   "metadata": {},
   "outputs": [],
   "source": [
    "# The mode in which you want to create the file\n",
    "# In actual FUSE, this would be a more complex combination of flags\n",
    "mode = 0o777\n",
    "\n",
    "path = \"/mnt/tt/tt.txt\"\n",
    "# Call create on the fs instance to create the file\n",
    "fs.create(path, mode)\n",
    "\n",
    "# The flags indicate the operation you want to perform (e.g., os.O_WRONLY for writing only)\n",
    "flags = os.O_WRONLY\n",
    "\n",
    "# Open the file to get a file handle (fh)\n",
    "fh = fs.open(path, flags)"
   ]
  },
  {
   "cell_type": "code",
   "execution_count": 38,
   "id": "4a2d24c3",
   "metadata": {},
   "outputs": [
    {
     "name": "stdout",
     "output_type": "stream",
     "text": [
      "Written 11 bytes to the file.\n"
     ]
    }
   ],
   "source": [
    "# The data you want to write\n",
    "data = 'Hello, FFF!'\n",
    "\n",
    "# Write data to the file\n",
    "# Here you should encode the data to bytes, and you can use the file handle if your implementation requires it\n",
    "written_bytes = fs.write(data.encode(), fh)\n",
    "\n",
    "print(f\"Written {written_bytes} bytes to the file.\")"
   ]
  },
  {
   "cell_type": "code",
   "execution_count": 39,
   "id": "dca43bd9",
   "metadata": {},
   "outputs": [
    {
     "name": "stdout",
     "output_type": "stream",
     "text": [
      "b'Hello, FFF!'\n"
     ]
    }
   ],
   "source": [
    "# Read from the file\n",
    "size = 1024  # Number of bytes you want to read\n",
    "offset = 0   # Offset from where you want to start reading\n",
    "\n",
    "try:\n",
    "    data_read = fs.read(size=1024, fh=fh)\n",
    "except FuseOSError as e:\n",
    "    print(f\"Error reading file: {e}\")\n",
    "else:\n",
    "    print(data_read)\n",
    "\n",
    "# # Read the data using the file handle if your implementation requires it\n",
    "# data_read = fs.read(size, fh)\n",
    "# print(fh)\n",
    "# print(data_read.decode('utf-8')) \n",
    "# print(data_read)# Assuming the data is utf-8 encoded"
   ]
  },
  {
   "cell_type": "code",
   "execution_count": 40,
   "id": "eda73055",
   "metadata": {},
   "outputs": [
    {
     "name": "stdout",
     "output_type": "stream",
     "text": [
      "Truncated /mnt/tt/tt.txt to 100 bytes.\n"
     ]
    }
   ],
   "source": [
    "path_to_file = \"/mnt/tt/tt.txt\"\n",
    "truncate_length = 100  # Truncate to 100 bytes\n",
    "fs.truncate(path_to_file, truncate_length)\n",
    "print(f\"Truncated {path_to_file} to {truncate_length} bytes.\")"
   ]
  },
  {
   "cell_type": "code",
   "execution_count": 41,
   "id": "50f18f72",
   "metadata": {},
   "outputs": [
    {
     "name": "stdout",
     "output_type": "stream",
     "text": [
      "Renamed /mnt/tt/tt.txt to /mnt/tt/new.txt.\n",
      "Renamed /mnt/tt/tt.txt to /mnt/tt/new.txt.\n"
     ]
    }
   ],
   "source": [
    "old_path = \"/mnt/tt/tt.txt\"\n",
    "new_path = \"/mnt/tt/new.txt\"\n",
    "fs.rename(old_path, new_path)\n",
    "print(f\"Renamed {old_path} to {new_path}.\")"
   ]
  },
  {
   "cell_type": "code",
   "execution_count": 24,
   "id": "03ec98e5",
   "metadata": {},
   "outputs": [
    {
     "name": "stdout",
     "output_type": "stream",
     "text": [
      "Deleted /mnt/tt/tt.txt.\n"
     ]
    }
   ],
   "source": [
    "path_to_file = \"/mnt/tt/tt.txt\"\n",
    "fs.unlink(path_to_file)\n",
    "print(f\"Deleted {path_to_file}.\")"
   ]
  },
  {
   "cell_type": "code",
   "execution_count": null,
   "id": "2442fc1b",
   "metadata": {},
   "outputs": [],
   "source": []
  },
  {
   "cell_type": "code",
   "execution_count": 25,
   "id": "0b042642",
   "metadata": {},
   "outputs": [],
   "source": [
    "# Close the file handle\n",
    "fs.close(fh)"
   ]
  },
  {
   "cell_type": "code",
   "execution_count": 111,
   "id": "ad27e5ea",
   "metadata": {},
   "outputs": [],
   "source": [
    "# fs = GCSFS(\"fuse_ecc\")\n",
    "\n",
    "# path = '/mnt/n.txt'  # Make sure this path is within the mounted FUSE filesystem\n",
    "# mode = 0o777                # File mode (e.g., 0o777 for full permissions)\n",
    "\n",
    "# # Now, call create on the instance of the class, not on the class itself\n",
    "# # The file handle (fh) is not typically provided by the caller; it's generated within the create method\n",
    "# fh = fs.create(path, mode)"
   ]
  },
  {
   "cell_type": "code",
   "execution_count": null,
   "id": "94439b01",
   "metadata": {},
   "outputs": [],
   "source": []
  },
  {
   "cell_type": "code",
   "execution_count": 80,
   "id": "e08f669d",
   "metadata": {},
   "outputs": [],
   "source": [
    "# path = '/mnt/n.txt'  # The path within the FUSE filesystem\n",
    "# data = 'Hello, NIKHIL!'      # The data you want to write\n",
    "# flags = os.O_WRONLY         # Flag indicating you're opening the file for writing\n",
    "\n",
    "# # Open the file to get a file descriptor\n",
    "# fh = fs.open(path, flags)\n",
    "\n",
    "# # Write data to the file at the specified path\n",
    "# # Since GCS doesn't support file descriptors, we ignore the 'fh' in the actual write call\n",
    "# written_bytes = fs.write(path, data.encode(), 0, fh)\n",
    "\n",
    "# print(f\"Written {written_bytes} bytes to the file.\")"
   ]
  },
  {
   "cell_type": "code",
   "execution_count": 79,
   "id": "78d4d7a8",
   "metadata": {},
   "outputs": [],
   "source": [
    "# size = 1024                 # Number of bytes you want to read\n",
    "# offset = 0                  # Offset from where you want to start reading\n",
    "\n",
    "# data_read = fs.read(path, size, offset, fh)\n",
    "# print(data_read)"
   ]
  },
  {
   "cell_type": "code",
   "execution_count": 78,
   "id": "497715eb",
   "metadata": {},
   "outputs": [],
   "source": [
    "# data_to_write = b\"Hello, GCS!\"\n",
    "# fs.write('/mnt/yourfile.txt', data_to_write, offset=0, fh=None)"
   ]
  },
  {
   "cell_type": "code",
   "execution_count": 77,
   "id": "63afe353",
   "metadata": {},
   "outputs": [],
   "source": [
    "# data_read = fs.read('/mnt/yourfile.txt', size=1024, offset=0, fh=None)\n",
    "# print(data_read)"
   ]
  },
  {
   "cell_type": "code",
   "execution_count": 76,
   "id": "40cd8c2e",
   "metadata": {
    "scrolled": false
   },
   "outputs": [],
   "source": [
    "# path = '/mnt/yourfile.txt'\n",
    "# flags = os.O_WRONLY\n",
    "\n",
    "# try:\n",
    "#     fh = fs.open(path, flags)\n",
    "#     print(f\"File handle: {fh}\")\n",
    "# except FuseOSError as e:\n",
    "#     print(f\"Error opening file: {e}\")"
   ]
  },
  {
   "cell_type": "code",
   "execution_count": null,
   "id": "14e066e6",
   "metadata": {},
   "outputs": [],
   "source": []
  },
  {
   "cell_type": "code",
   "execution_count": null,
   "id": "c8074f1e",
   "metadata": {},
   "outputs": [],
   "source": []
  }
 ],
 "metadata": {
  "kernelspec": {
   "display_name": "Python 3 (ipykernel)",
   "language": "python",
   "name": "python3"
  },
  "language_info": {
   "codemirror_mode": {
    "name": "ipython",
    "version": 3
   },
   "file_extension": ".py",
   "mimetype": "text/x-python",
   "name": "python",
   "nbconvert_exporter": "python",
   "pygments_lexer": "ipython3",
   "version": "3.9.18"
  }
 },
 "nbformat": 4,
 "nbformat_minor": 5
}
