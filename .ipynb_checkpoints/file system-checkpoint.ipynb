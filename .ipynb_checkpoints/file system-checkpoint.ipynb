{
 "cells": [
  {
   "cell_type": "code",
   "execution_count": 1,
   "id": "65025316",
   "metadata": {},
   "outputs": [],
   "source": [
    "import os\n",
    "import errno\n",
    "import stat\n",
    "import sys\n",
    "\n",
    "from fuse import FUSE, Operations, FuseOSError\n",
    "from google.cloud import storage\n",
    "from google.cloud.storage.blob import Blob\n",
    "from google.api_core.exceptions import NotFound\n",
    "\n",
    "class GCSFS(Operations):\n",
    "    def __init__(self, bucket_name):\n",
    "        self.client = storage.Client()\n",
    "        self.bucket = self.client.bucket(bucket_name)\n",
    "        self.fd = 0\n",
    "        self.open_files = {}\n",
    "\n",
    "\n",
    "    def create(self, path, mode):\n",
    "        # Create an empty file\n",
    "        blob = self.bucket.blob(path.lstrip('/'))\n",
    "        blob.upload_from_string('')\n",
    "        return 0\n",
    "    \n",
    "    def close(self, fh):\n",
    "        if fh in self.open_files:\n",
    "            # Perform any necessary operations to 'close' the file, if applicable\n",
    "            del self.open_files[fh]\n",
    "\n",
    "    def open(self, path, flags):\n",
    "        \"\"\"Open a file. This increments and returns a pseudo-file descriptor.\"\"\"\n",
    "        self.fd += 1\n",
    "        self.open_files[self.fd] = {'path': path, 'offset': 0, 'flags': flags}\n",
    "        return self.fd\n",
    "\n",
    "    def read(self, size, fh):\n",
    "        # Check if the file handle exists and get the associated path and offset\n",
    "        if fh not in self.open_files:\n",
    "            raise FuseOSError(errno.EBADF)  # Bad file descriptor error\n",
    "\n",
    "        file_info = self.open_files[fh]\n",
    "        path = file_info['path']\n",
    "        current_offset = 0\n",
    "\n",
    "        blob = self.bucket.blob(path.lstrip('/'))\n",
    "        file_data = blob.download_as_string()\n",
    "\n",
    "        # Read the requested data\n",
    "        read_data = file_data[current_offset:current_offset + size]\n",
    "\n",
    "        # Update the offset for this file handle\n",
    "        self.open_files[fh]['offset'] += len(read_data)\n",
    "\n",
    "        return read_data\n",
    "\n",
    "    def mkdir(self, path, mode):\n",
    "        \"\"\"Create a directory (folder) at path.\"\"\"\n",
    "        # Append a '/' to the path if not present to signify a directory\n",
    "        if not path.endswith('/'):\n",
    "            path += '/'\n",
    "        # Create the folder\n",
    "        blob = self.bucket.blob(path.lstrip('/'))\n",
    "        try:\n",
    "            blob.upload_from_string('')\n",
    "            return True\n",
    "        except Exception as e:\n",
    "            print(f\"An error occurred: {e}\")\n",
    "            return False\n",
    "        \n",
    "    def opendir(self, path):\n",
    "        \"\"\"Open a directory. This is mostly for compatibility; 'opendir' itself does not track state.\"\"\"\n",
    "        # Ensure path ends with '/' and remove leading '/'\n",
    "        if not path.endswith('/'):\n",
    "            path += '/'\n",
    "        path = path.lstrip('/')\n",
    "        # Check if directory exists\n",
    "        if self.bucket.get_blob(path) or path == \"\":\n",
    "            self.fd += 1\n",
    "            self.open_files[self.fd] = {'path': path, 'flags': os.O_RDONLY}\n",
    "            return self.fd\n",
    "        else:\n",
    "            raise FuseOSError(errno.ENOENT)\n",
    "\n",
    "    def readdir(self, path, fh):\n",
    "        \"\"\"Read a directory. Returns a list of directory contents.\"\"\"\n",
    "        # Ensure path ends with '/' and remove leading '/'\n",
    "        if not path.endswith('/'):\n",
    "            path += '/'\n",
    "        path = path.lstrip('/')\n",
    "        # Retrieve all blobs with the prefix of the directory\n",
    "        iterator = self.bucket.list_blobs(prefix=path, delimiter='/')\n",
    "        blobs = list(iterator)\n",
    "        # Use iterator.prefixes to get the set of unique prefixes (subdirectories)\n",
    "        prefixes = set(iterator.prefixes)\n",
    "        # Get the names of all the files and directories\n",
    "        contents = ['.', '..']  # Default entries\n",
    "        for blob in blobs:\n",
    "            name = os.path.basename(blob.name)\n",
    "            if name:  # Avoid adding empty names which occur with objects that end with '/'\n",
    "                contents.append(name)\n",
    "        # Add the prefixes (subdirectories) as well\n",
    "        for prefix in prefixes:\n",
    "            contents.append(os.path.basename(prefix.rstrip('/')))\n",
    "        return contents\n",
    "\n",
    "    def remove_directory_contents(self, directory_path):\n",
    "        blobs = self.bucket.list_blobs(prefix=directory_path)\n",
    "        for blob in blobs:\n",
    "            self.bucket.delete_blob(blob.name)\n",
    "            print(f\"Deleted: {blob.name}\")\n",
    "\n",
    "    def rmdir(self, path):\n",
    "        directory_path = path.strip('/') + '/'  # Ensure correct directory path format\n",
    "        try:\n",
    "            # Check if the directory is not empty\n",
    "            blobs = list(self.bucket.list_blobs(prefix=directory_path))\n",
    "            if any(blob.name != directory_path for blob in blobs):\n",
    "                print(f\"Directory {path} is not empty, deleting all the files in the give dir\")\n",
    "                # Here you can decide whether to call remove_directory_contents or not\n",
    "                # Uncomment the next line to remove all contents inside the directory\n",
    "                self.remove_directory_contents(directory_path)\n",
    "                return\n",
    "#                 raise FuseOSError(errno.ENOTEMPTY)  # Directory not empty error\n",
    "\n",
    "            # If the directory marker exists, delete it\n",
    "            directory_blob = self.bucket.blob(directory_path)\n",
    "            if directory_blob.exists():\n",
    "                self.bucket.delete_blob(directory_blob.name)\n",
    "                print(f\"Deleted directory marker for {path}\")\n",
    "            else:\n",
    "                print(f\"Directory {path} does not exist or is already deleted.\")\n",
    "                raise FuseOSError(errno.ENOENT)  # No such file or directory error\n",
    "\n",
    "        except NotFound:\n",
    "            # The directory does not exist in GCS\n",
    "            print(f\"Directory {path} does not exist.\")\n",
    "            raise FuseOSError(errno.ENOENT)  # No such file or directory error\n",
    "        except Exception as e:\n",
    "            # Handle other exceptions\n",
    "            print(f\"Unexpected error: {e}\")\n",
    "            raise FuseOSError(errno.EIO)  # Input/output error\n",
    "\n",
    "    \n",
    "    def write(self, data, fh):\n",
    "        # Check if the file handle exists and get the associated path and offset\n",
    "        if fh not in self.open_files:\n",
    "            raise FuseOSError(errno.EBADF)  # Bad file descriptor error\n",
    "\n",
    "        file_info = self.open_files[fh]\n",
    "        path = file_info['path']\n",
    "        offset = file_info['offset']\n",
    "\n",
    "        blob = self.bucket.blob(path.lstrip('/'))\n",
    "\n",
    "        # Since GCS doesn't support partial writes, we need to read-modify-write\n",
    "        existing_data = blob.download_as_string()\n",
    "        # This assumes that the offset given by the write call is to be respected\n",
    "        # (i.e., if the file is opened in 'append' mode, this may not be correct)\n",
    "        new_data = existing_data[:offset] + data + existing_data[offset + len(data):]\n",
    "\n",
    "        blob.upload_from_string(new_data)\n",
    "\n",
    "        # Update the offset for this file handle\n",
    "        self.open_files[fh]['offset'] += len(data)\n",
    "\n",
    "        return len(data)\n",
    "\n",
    "\n",
    "    def truncate(self, path, length, fh=None):\n",
    "        # Truncate file in GCS\n",
    "        blob = self.bucket.blob(path.lstrip('/'))\n",
    "        file_data = blob.download_as_string()\n",
    "        truncated_data = file_data[:length]\n",
    "        blob.upload_from_string(truncated_data)\n",
    "\n",
    "    def unlink(self, path):\n",
    "        # Delete file from GCS\n",
    "        blob = self.bucket.blob(path.lstrip('/'))\n",
    "        blob.delete()\n",
    "\n",
    "    def rename(self, old, new):\n",
    "        try:\n",
    "            # Get the blobs for the old and new names\n",
    "            old_blob = self.bucket.blob(old.lstrip('/'))\n",
    "            new_blob = self.bucket.blob(new.lstrip('/'))\n",
    "\n",
    "            # Copy the old blob to the new location\n",
    "            new_blob = self.bucket.copy_blob(old_blob, self.bucket, new_blob.name)\n",
    "\n",
    "            # If the copy is successful, delete the old blob\n",
    "            if new_blob:\n",
    "                old_blob.delete()\n",
    "            print(f\"Renamed {old} to {new}.\")\n",
    "        except Exception as e:\n",
    "            print(f\"Failed to rename {old} to {new}: {e}\")\n",
    "            raise"
   ]
  },
  {
   "cell_type": "code",
   "execution_count": 2,
   "id": "d36a8e30",
   "metadata": {},
   "outputs": [],
   "source": [
    "import threading"
   ]
  },
  {
   "cell_type": "code",
   "execution_count": 3,
   "id": "15b2f662",
   "metadata": {},
   "outputs": [],
   "source": [
    "mountpoint = './mnt'\n",
    "bucket_name = 'fuse_ecc'\n",
    "\n",
    "# Ensure that the mountpoint is available\n",
    "if not os.path.isdir(mountpoint):\n",
    "    os.makedirs(mountpoint)"
   ]
  },
  {
   "cell_type": "code",
   "execution_count": 4,
   "id": "4b14f23b",
   "metadata": {},
   "outputs": [],
   "source": [
    "def start_fuse(mountpoint, bucket_name):\n",
    "    FUSE(GCSFS(bucket_name), mountpoint, nothreads=False, foreground=True)"
   ]
  },
  {
   "cell_type": "code",
   "execution_count": 5,
   "id": "a92c35f7",
   "metadata": {},
   "outputs": [],
   "source": [
    "fuse_thread = threading.Thread(target=start_fuse, args=(mountpoint, bucket_name))\n",
    "fuse_thread.daemon = True  # Allows the notebook to shut down without explicitly stopping the thread\n",
    "fuse_thread.start()"
   ]
  },
  {
   "cell_type": "code",
   "execution_count": 6,
   "id": "fddbbed1",
   "metadata": {},
   "outputs": [
    {
     "name": "stderr",
     "output_type": "stream",
     "text": [
      "mount_macfuse: mount point /Users/nikhilsrirangam/Desktop/sem-3/ECC/FUSE/mnt is itself on a macFUSE volume\n",
      "Exception in thread Thread-5:\n",
      "Traceback (most recent call last):\n",
      "  File \"/opt/homebrew/Cellar/python@3.9/3.9.18/Frameworks/Python.framework/Versions/3.9/lib/python3.9/threading.py\", line 980, in _bootstrap_inner\n",
      "    self.run()\n",
      "  File \"/opt/homebrew/Cellar/python@3.9/3.9.18/Frameworks/Python.framework/Versions/3.9/lib/python3.9/threading.py\", line 917, in run\n",
      "    self._target(*self._args, **self._kwargs)\n",
      "  File \"/var/folders/j1/51l5z9qj33j34fr_93904_0c0000gn/T/ipykernel_17931/996168660.py\", line 2, in start_fuse\n",
      "  File \"/opt/homebrew/lib/python3.9/site-packages/fuse.py\", line 711, in __init__\n",
      "    raise RuntimeError(err)\n",
      "RuntimeError: 1\n"
     ]
    }
   ],
   "source": [
    "fs = GCSFS(\"fuse_ecc\")"
   ]
  },
  {
   "cell_type": "code",
   "execution_count": null,
   "id": "0af8c8ef",
   "metadata": {},
   "outputs": [],
   "source": []
  },
  {
   "cell_type": "code",
   "execution_count": 7,
   "id": "b5d312f4",
   "metadata": {},
   "outputs": [
    {
     "name": "stdout",
     "output_type": "stream",
     "text": [
      "Directory /mnt/test/ created successfully.\n",
      "Directory /mnt/test/ opened with fd 1.\n",
      "Contents of directory: ['.', '..', 'cacert.pem']\n"
     ]
    }
   ],
   "source": [
    "# Try to make a new directory\n",
    "path = \"/mnt/test/\"\n",
    "mode = 0o777  # Not used in this implementation, but required by the method signature\n",
    "if fs.mkdir(path, mode):\n",
    "    print(f\"Directory {path} created successfully.\")\n",
    "else:\n",
    "    print(f\"Failed to create directory {path}.\")\n",
    "\n",
    "# Open the directory\n",
    "fd = fs.opendir(path)\n",
    "print(f\"Directory {path} opened with fd {fd}.\")\n",
    "\n",
    "# Read the directory contents\n",
    "contents = fs.readdir(path, fd)\n",
    "print(\"Contents of directory:\", contents)\n"
   ]
  },
  {
   "cell_type": "code",
   "execution_count": 8,
   "id": "ab9a6a7f",
   "metadata": {},
   "outputs": [
    {
     "data": {
      "text/plain": [
       "0"
      ]
     },
     "execution_count": 8,
     "metadata": {},
     "output_type": "execute_result"
    }
   ],
   "source": [
    "mode = 0o777\n",
    "f = \"/mnt/tt/tt.txt\"\n",
    "# Call create on the fs instance to create the file\n",
    "fs.create(f, mode)"
   ]
  },
  {
   "cell_type": "code",
   "execution_count": null,
   "id": "090d2758",
   "metadata": {},
   "outputs": [],
   "source": []
  },
  {
   "cell_type": "code",
   "execution_count": null,
   "id": "04ee20a6",
   "metadata": {},
   "outputs": [],
   "source": []
  },
  {
   "cell_type": "code",
   "execution_count": 236,
   "id": "34300697",
   "metadata": {},
   "outputs": [
    {
     "name": "stdout",
     "output_type": "stream",
     "text": [
      "Directory /mnt/tt/ created successfully.\n"
     ]
    }
   ],
   "source": [
    "path = \"/mnt/tt/\"\n",
    "mode = 0o777  # Not used in this implementation, but required by the method signature\n",
    "if fs.mkdir(path, mode):\n",
    "    print(f\"Directory {path} created successfully.\")\n",
    "else:\n",
    "    print(f\"Failed to create directory {path}.\")"
   ]
  },
  {
   "cell_type": "code",
   "execution_count": 237,
   "id": "15e0c629",
   "metadata": {},
   "outputs": [
    {
     "data": {
      "text/plain": [
       "0"
      ]
     },
     "execution_count": 237,
     "metadata": {},
     "output_type": "execute_result"
    }
   ],
   "source": [
    "mode = 0o777\n",
    "f = \"/mnt/tt/tt.txt\"\n",
    "# Call create on the fs instance to create the file\n",
    "fs.create(f, mode)"
   ]
  },
  {
   "cell_type": "code",
   "execution_count": 238,
   "id": "ade93202",
   "metadata": {},
   "outputs": [
    {
     "name": "stdout",
     "output_type": "stream",
     "text": [
      "Directory /mnt/tt/ is not empty, deleting all the files in the give dir\n",
      "Deleted: mnt/tt/\n",
      "Deleted: mnt/tt/tt.txt\n"
     ]
    }
   ],
   "source": [
    "path = \"/mnt/tt/\"\n",
    "fs.rmdir(path)"
   ]
  },
  {
   "cell_type": "code",
   "execution_count": 17,
   "id": "f152fe43",
   "metadata": {},
   "outputs": [],
   "source": [
    "# The mode in which you want to create the file\n",
    "# In actual FUSE, this would be a more complex combination of flags\n",
    "mode = 0o777\n",
    "\n",
    "path = \"/mnt/tt/tt.txt\"\n",
    "# Call create on the fs instance to create the file\n",
    "fs.create(path, mode)\n",
    "\n",
    "# The flags indicate the operation you want to perform (e.g., os.O_WRONLY for writing only)\n",
    "flags = os.O_WRONLY\n",
    "\n",
    "# Open the file to get a file handle (fh)\n",
    "fh = fs.open(path, flags)"
   ]
  },
  {
   "cell_type": "code",
   "execution_count": 19,
   "id": "df155edc",
   "metadata": {},
   "outputs": [
    {
     "name": "stdout",
     "output_type": "stream",
     "text": [
      "Written 11 bytes to the file.\n"
     ]
    }
   ],
   "source": [
    "# The data you want to write\n",
    "data = 'Hello, FFF!'\n",
    "\n",
    "# Write data to the file\n",
    "# Here you should encode the data to bytes, and you can use the file handle if your implementation requires it\n",
    "written_bytes = fs.write(data.encode(), fh)\n",
    "\n",
    "print(f\"Written {written_bytes} bytes to the file.\")"
   ]
  },
  {
   "cell_type": "code",
   "execution_count": 20,
   "id": "99a9f817",
   "metadata": {},
   "outputs": [
    {
     "name": "stdout",
     "output_type": "stream",
     "text": [
      "b'Hello, NIKHIL!Hello, FFF!'\n"
     ]
    }
   ],
   "source": [
    "# Read from the file\n",
    "size = 1024  # Number of bytes you want to read\n",
    "offset = 0   # Offset from where you want to start reading\n",
    "\n",
    "try:\n",
    "    data_read = fs.read(size=1024, fh=fh)\n",
    "except FuseOSError as e:\n",
    "    print(f\"Error reading file: {e}\")\n",
    "else:\n",
    "    print(data_read)\n",
    "\n",
    "# # Read the data using the file handle if your implementation requires it\n",
    "# data_read = fs.read(size, fh)\n",
    "# print(fh)\n",
    "# print(data_read.decode('utf-8')) \n",
    "# print(data_read)# Assuming the data is utf-8 encoded"
   ]
  },
  {
   "cell_type": "code",
   "execution_count": 22,
   "id": "823ceaff",
   "metadata": {},
   "outputs": [
    {
     "name": "stdout",
     "output_type": "stream",
     "text": [
      "Truncated /mnt/tt/tt.txt to 10 bytes.\n"
     ]
    }
   ],
   "source": [
    "path_to_file = \"/mnt/tt/tt.txt\"\n",
    "truncate_length = 10  # Truncate to 100 bytes\n",
    "fs.truncate(path_to_file, truncate_length)\n",
    "print(f\"Truncated {path_to_file} to {truncate_length} bytes.\")"
   ]
  },
  {
   "cell_type": "code",
   "execution_count": 23,
   "id": "97611793",
   "metadata": {},
   "outputs": [
    {
     "ename": "ValueError",
     "evalue": "<Blob: fuse_ecc, mnt/tt/new.txt, None> could not be converted to unicode",
     "output_type": "error",
     "traceback": [
      "\u001b[0;31m---------------------------------------------------------------------------\u001b[0m",
      "\u001b[0;31mValueError\u001b[0m                                Traceback (most recent call last)",
      "Input \u001b[0;32mIn [23]\u001b[0m, in \u001b[0;36m<cell line: 3>\u001b[0;34m()\u001b[0m\n\u001b[1;32m      1\u001b[0m old_path \u001b[38;5;241m=\u001b[39m \u001b[38;5;124m\"\u001b[39m\u001b[38;5;124m/mnt/tt/tt.txt\u001b[39m\u001b[38;5;124m\"\u001b[39m\n\u001b[1;32m      2\u001b[0m new_path \u001b[38;5;241m=\u001b[39m \u001b[38;5;124m\"\u001b[39m\u001b[38;5;124m/mnt/tt/new.txt\u001b[39m\u001b[38;5;124m\"\u001b[39m\n\u001b[0;32m----> 3\u001b[0m \u001b[43mfs\u001b[49m\u001b[38;5;241;43m.\u001b[39;49m\u001b[43mrename\u001b[49m\u001b[43m(\u001b[49m\u001b[43mold_path\u001b[49m\u001b[43m,\u001b[49m\u001b[43m \u001b[49m\u001b[43mnew_path\u001b[49m\u001b[43m)\u001b[49m\n\u001b[1;32m      4\u001b[0m \u001b[38;5;28mprint\u001b[39m(\u001b[38;5;124mf\u001b[39m\u001b[38;5;124m\"\u001b[39m\u001b[38;5;124mRenamed \u001b[39m\u001b[38;5;132;01m{\u001b[39;00mold_path\u001b[38;5;132;01m}\u001b[39;00m\u001b[38;5;124m to \u001b[39m\u001b[38;5;132;01m{\u001b[39;00mnew_path\u001b[38;5;132;01m}\u001b[39;00m\u001b[38;5;124m.\u001b[39m\u001b[38;5;124m\"\u001b[39m)\n",
      "Input \u001b[0;32mIn [1]\u001b[0m, in \u001b[0;36mGCSFS.rename\u001b[0;34m(self, old, new)\u001b[0m\n\u001b[1;32m    183\u001b[0m old_blob \u001b[38;5;241m=\u001b[39m \u001b[38;5;28mself\u001b[39m\u001b[38;5;241m.\u001b[39mbucket\u001b[38;5;241m.\u001b[39mblob(old\u001b[38;5;241m.\u001b[39mlstrip(\u001b[38;5;124m'\u001b[39m\u001b[38;5;124m/\u001b[39m\u001b[38;5;124m'\u001b[39m))\n\u001b[1;32m    184\u001b[0m new_blob \u001b[38;5;241m=\u001b[39m \u001b[38;5;28mself\u001b[39m\u001b[38;5;241m.\u001b[39mbucket\u001b[38;5;241m.\u001b[39mblob(new\u001b[38;5;241m.\u001b[39mlstrip(\u001b[38;5;124m'\u001b[39m\u001b[38;5;124m/\u001b[39m\u001b[38;5;124m'\u001b[39m))\n\u001b[0;32m--> 185\u001b[0m \u001b[38;5;28;43mself\u001b[39;49m\u001b[38;5;241;43m.\u001b[39;49m\u001b[43mbucket\u001b[49m\u001b[38;5;241;43m.\u001b[39;49m\u001b[43mrename_blob\u001b[49m\u001b[43m(\u001b[49m\u001b[43mold_blob\u001b[49m\u001b[43m,\u001b[49m\u001b[43m \u001b[49m\u001b[43mnew_blob\u001b[49m\u001b[43m)\u001b[49m\n",
      "File \u001b[0;32m/opt/homebrew/lib/python3.9/site-packages/google/cloud/storage/bucket.py:2026\u001b[0m, in \u001b[0;36mBucket.rename_blob\u001b[0;34m(self, blob, new_name, client, if_generation_match, if_generation_not_match, if_metageneration_match, if_metageneration_not_match, if_source_generation_match, if_source_generation_not_match, if_source_metageneration_match, if_source_metageneration_not_match, timeout, retry)\u001b[0m\n\u001b[1;32m   1934\u001b[0m \u001b[38;5;250m\u001b[39m\u001b[38;5;124;03m\"\"\"Rename the given blob using copy and delete operations.\u001b[39;00m\n\u001b[1;32m   1935\u001b[0m \n\u001b[1;32m   1936\u001b[0m \u001b[38;5;124;03mIf :attr:`user_project` is set, bills the API request to that project.\u001b[39;00m\n\u001b[0;32m   (...)\u001b[0m\n\u001b[1;32m   2022\u001b[0m \u001b[38;5;124;03m:returns: The newly-renamed blob.\u001b[39;00m\n\u001b[1;32m   2023\u001b[0m \u001b[38;5;124;03m\"\"\"\u001b[39;00m\n\u001b[1;32m   2024\u001b[0m same_name \u001b[38;5;241m=\u001b[39m blob\u001b[38;5;241m.\u001b[39mname \u001b[38;5;241m==\u001b[39m new_name\n\u001b[0;32m-> 2026\u001b[0m new_blob \u001b[38;5;241m=\u001b[39m \u001b[38;5;28;43mself\u001b[39;49m\u001b[38;5;241;43m.\u001b[39;49m\u001b[43mcopy_blob\u001b[49m\u001b[43m(\u001b[49m\n\u001b[1;32m   2027\u001b[0m \u001b[43m    \u001b[49m\u001b[43mblob\u001b[49m\u001b[43m,\u001b[49m\n\u001b[1;32m   2028\u001b[0m \u001b[43m    \u001b[49m\u001b[38;5;28;43mself\u001b[39;49m\u001b[43m,\u001b[49m\n\u001b[1;32m   2029\u001b[0m \u001b[43m    \u001b[49m\u001b[43mnew_name\u001b[49m\u001b[43m,\u001b[49m\n\u001b[1;32m   2030\u001b[0m \u001b[43m    \u001b[49m\u001b[43mclient\u001b[49m\u001b[38;5;241;43m=\u001b[39;49m\u001b[43mclient\u001b[49m\u001b[43m,\u001b[49m\n\u001b[1;32m   2031\u001b[0m \u001b[43m    \u001b[49m\u001b[43mtimeout\u001b[49m\u001b[38;5;241;43m=\u001b[39;49m\u001b[43mtimeout\u001b[49m\u001b[43m,\u001b[49m\n\u001b[1;32m   2032\u001b[0m \u001b[43m    \u001b[49m\u001b[43mif_generation_match\u001b[49m\u001b[38;5;241;43m=\u001b[39;49m\u001b[43mif_generation_match\u001b[49m\u001b[43m,\u001b[49m\n\u001b[1;32m   2033\u001b[0m \u001b[43m    \u001b[49m\u001b[43mif_generation_not_match\u001b[49m\u001b[38;5;241;43m=\u001b[39;49m\u001b[43mif_generation_not_match\u001b[49m\u001b[43m,\u001b[49m\n\u001b[1;32m   2034\u001b[0m \u001b[43m    \u001b[49m\u001b[43mif_metageneration_match\u001b[49m\u001b[38;5;241;43m=\u001b[39;49m\u001b[43mif_metageneration_match\u001b[49m\u001b[43m,\u001b[49m\n\u001b[1;32m   2035\u001b[0m \u001b[43m    \u001b[49m\u001b[43mif_metageneration_not_match\u001b[49m\u001b[38;5;241;43m=\u001b[39;49m\u001b[43mif_metageneration_not_match\u001b[49m\u001b[43m,\u001b[49m\n\u001b[1;32m   2036\u001b[0m \u001b[43m    \u001b[49m\u001b[43mif_source_generation_match\u001b[49m\u001b[38;5;241;43m=\u001b[39;49m\u001b[43mif_source_generation_match\u001b[49m\u001b[43m,\u001b[49m\n\u001b[1;32m   2037\u001b[0m \u001b[43m    \u001b[49m\u001b[43mif_source_generation_not_match\u001b[49m\u001b[38;5;241;43m=\u001b[39;49m\u001b[43mif_source_generation_not_match\u001b[49m\u001b[43m,\u001b[49m\n\u001b[1;32m   2038\u001b[0m \u001b[43m    \u001b[49m\u001b[43mif_source_metageneration_match\u001b[49m\u001b[38;5;241;43m=\u001b[39;49m\u001b[43mif_source_metageneration_match\u001b[49m\u001b[43m,\u001b[49m\n\u001b[1;32m   2039\u001b[0m \u001b[43m    \u001b[49m\u001b[43mif_source_metageneration_not_match\u001b[49m\u001b[38;5;241;43m=\u001b[39;49m\u001b[43mif_source_metageneration_not_match\u001b[49m\u001b[43m,\u001b[49m\n\u001b[1;32m   2040\u001b[0m \u001b[43m    \u001b[49m\u001b[43mretry\u001b[49m\u001b[38;5;241;43m=\u001b[39;49m\u001b[43mretry\u001b[49m\u001b[43m,\u001b[49m\n\u001b[1;32m   2041\u001b[0m \u001b[43m\u001b[49m\u001b[43m)\u001b[49m\n\u001b[1;32m   2043\u001b[0m \u001b[38;5;28;01mif\u001b[39;00m \u001b[38;5;129;01mnot\u001b[39;00m same_name:\n\u001b[1;32m   2044\u001b[0m     blob\u001b[38;5;241m.\u001b[39mdelete(\n\u001b[1;32m   2045\u001b[0m         client\u001b[38;5;241m=\u001b[39mclient,\n\u001b[1;32m   2046\u001b[0m         timeout\u001b[38;5;241m=\u001b[39mtimeout,\n\u001b[0;32m   (...)\u001b[0m\n\u001b[1;32m   2051\u001b[0m         retry\u001b[38;5;241m=\u001b[39mretry,\n\u001b[1;32m   2052\u001b[0m     )\n",
      "File \u001b[0;32m/opt/homebrew/lib/python3.9/site-packages/google/cloud/storage/bucket.py:1901\u001b[0m, in \u001b[0;36mBucket.copy_blob\u001b[0;34m(self, blob, destination_bucket, new_name, client, preserve_acl, source_generation, if_generation_match, if_generation_not_match, if_metageneration_match, if_metageneration_not_match, if_source_generation_match, if_source_generation_not_match, if_source_metageneration_match, if_source_metageneration_not_match, timeout, retry)\u001b[0m\n\u001b[1;32m   1898\u001b[0m \u001b[38;5;28;01mif\u001b[39;00m new_name \u001b[38;5;129;01mis\u001b[39;00m \u001b[38;5;28;01mNone\u001b[39;00m:\n\u001b[1;32m   1899\u001b[0m     new_name \u001b[38;5;241m=\u001b[39m blob\u001b[38;5;241m.\u001b[39mname\n\u001b[0;32m-> 1901\u001b[0m new_blob \u001b[38;5;241m=\u001b[39m \u001b[43mBlob\u001b[49m\u001b[43m(\u001b[49m\u001b[43mbucket\u001b[49m\u001b[38;5;241;43m=\u001b[39;49m\u001b[43mdestination_bucket\u001b[49m\u001b[43m,\u001b[49m\u001b[43m \u001b[49m\u001b[43mname\u001b[49m\u001b[38;5;241;43m=\u001b[39;49m\u001b[43mnew_name\u001b[49m\u001b[43m)\u001b[49m\n\u001b[1;32m   1902\u001b[0m api_path \u001b[38;5;241m=\u001b[39m blob\u001b[38;5;241m.\u001b[39mpath \u001b[38;5;241m+\u001b[39m \u001b[38;5;124m\"\u001b[39m\u001b[38;5;124m/copyTo\u001b[39m\u001b[38;5;124m\"\u001b[39m \u001b[38;5;241m+\u001b[39m new_blob\u001b[38;5;241m.\u001b[39mpath\n\u001b[1;32m   1903\u001b[0m copy_result \u001b[38;5;241m=\u001b[39m client\u001b[38;5;241m.\u001b[39m_post_resource(\n\u001b[1;32m   1904\u001b[0m     api_path,\n\u001b[1;32m   1905\u001b[0m     \u001b[38;5;28;01mNone\u001b[39;00m,\n\u001b[0;32m   (...)\u001b[0m\n\u001b[1;32m   1909\u001b[0m     _target_object\u001b[38;5;241m=\u001b[39mnew_blob,\n\u001b[1;32m   1910\u001b[0m )\n",
      "File \u001b[0;32m/opt/homebrew/lib/python3.9/site-packages/google/cloud/storage/blob.py:218\u001b[0m, in \u001b[0;36mBlob.__init__\u001b[0;34m(self, name, bucket, chunk_size, encryption_key, kms_key_name, generation)\u001b[0m\n\u001b[1;32m    205\u001b[0m \u001b[38;5;28;01mdef\u001b[39;00m \u001b[38;5;21m__init__\u001b[39m(\n\u001b[1;32m    206\u001b[0m     \u001b[38;5;28mself\u001b[39m,\n\u001b[1;32m    207\u001b[0m     name,\n\u001b[0;32m   (...)\u001b[0m\n\u001b[1;32m    212\u001b[0m     generation\u001b[38;5;241m=\u001b[39m\u001b[38;5;28;01mNone\u001b[39;00m,\n\u001b[1;32m    213\u001b[0m ):\n\u001b[1;32m    214\u001b[0m \u001b[38;5;250m    \u001b[39m\u001b[38;5;124;03m\"\"\"\u001b[39;00m\n\u001b[1;32m    215\u001b[0m \u001b[38;5;124;03m    property :attr:`name`\u001b[39;00m\n\u001b[1;32m    216\u001b[0m \u001b[38;5;124;03m        Get the blob's name.\u001b[39;00m\n\u001b[1;32m    217\u001b[0m \u001b[38;5;124;03m    \"\"\"\u001b[39;00m\n\u001b[0;32m--> 218\u001b[0m     name \u001b[38;5;241m=\u001b[39m \u001b[43m_bytes_to_unicode\u001b[49m\u001b[43m(\u001b[49m\u001b[43mname\u001b[49m\u001b[43m)\u001b[49m\n\u001b[1;32m    219\u001b[0m     \u001b[38;5;28msuper\u001b[39m(Blob, \u001b[38;5;28mself\u001b[39m)\u001b[38;5;241m.\u001b[39m\u001b[38;5;21m__init__\u001b[39m(name\u001b[38;5;241m=\u001b[39mname)\n\u001b[1;32m    221\u001b[0m     \u001b[38;5;28mself\u001b[39m\u001b[38;5;241m.\u001b[39mchunk_size \u001b[38;5;241m=\u001b[39m chunk_size  \u001b[38;5;66;03m# Check that setter accepts value.\u001b[39;00m\n",
      "File \u001b[0;32m/opt/homebrew/lib/python3.9/site-packages/google/cloud/_helpers/__init__.py:352\u001b[0m, in \u001b[0;36m_bytes_to_unicode\u001b[0;34m(value)\u001b[0m\n\u001b[1;32m    350\u001b[0m     \u001b[38;5;28;01mreturn\u001b[39;00m result\n\u001b[1;32m    351\u001b[0m \u001b[38;5;28;01melse\u001b[39;00m:\n\u001b[0;32m--> 352\u001b[0m     \u001b[38;5;28;01mraise\u001b[39;00m \u001b[38;5;167;01mValueError\u001b[39;00m(\u001b[38;5;124m\"\u001b[39m\u001b[38;5;132;01m%r\u001b[39;00m\u001b[38;5;124m could not be converted to unicode\u001b[39m\u001b[38;5;124m\"\u001b[39m \u001b[38;5;241m%\u001b[39m (value,))\n",
      "\u001b[0;31mValueError\u001b[0m: <Blob: fuse_ecc, mnt/tt/new.txt, None> could not be converted to unicode"
     ]
    }
   ],
   "source": [
    "old_path = \"/mnt/tt/tt.txt\"\n",
    "new_path = \"/mnt/tt/new.txt\"\n",
    "fs.rename(old_path, new_path)\n",
    "print(f\"Renamed {old_path} to {new_path}.\")"
   ]
  },
  {
   "cell_type": "code",
   "execution_count": 24,
   "id": "4a74fe57",
   "metadata": {},
   "outputs": [
    {
     "name": "stdout",
     "output_type": "stream",
     "text": [
      "Deleted /mnt/tt/tt.txt.\n"
     ]
    }
   ],
   "source": [
    "path_to_file = \"/mnt/tt/tt.txt\"\n",
    "fs.unlink(path_to_file)\n",
    "print(f\"Deleted {path_to_file}.\")"
   ]
  },
  {
   "cell_type": "code",
   "execution_count": null,
   "id": "f3996cea",
   "metadata": {},
   "outputs": [],
   "source": []
  },
  {
   "cell_type": "code",
   "execution_count": 25,
   "id": "ebbc5a70",
   "metadata": {},
   "outputs": [],
   "source": [
    "# Close the file handle\n",
    "fs.close(fh)"
   ]
  },
  {
   "cell_type": "code",
   "execution_count": 111,
   "id": "54a29407",
   "metadata": {},
   "outputs": [],
   "source": [
    "# fs = GCSFS(\"fuse_ecc\")\n",
    "\n",
    "# path = '/mnt/n.txt'  # Make sure this path is within the mounted FUSE filesystem\n",
    "# mode = 0o777                # File mode (e.g., 0o777 for full permissions)\n",
    "\n",
    "# # Now, call create on the instance of the class, not on the class itself\n",
    "# # The file handle (fh) is not typically provided by the caller; it's generated within the create method\n",
    "# fh = fs.create(path, mode)"
   ]
  },
  {
   "cell_type": "code",
   "execution_count": null,
   "id": "1d6d256a",
   "metadata": {},
   "outputs": [],
   "source": []
  },
  {
   "cell_type": "code",
   "execution_count": 80,
   "id": "d12889ba",
   "metadata": {},
   "outputs": [],
   "source": [
    "# path = '/mnt/n.txt'  # The path within the FUSE filesystem\n",
    "# data = 'Hello, NIKHIL!'      # The data you want to write\n",
    "# flags = os.O_WRONLY         # Flag indicating you're opening the file for writing\n",
    "\n",
    "# # Open the file to get a file descriptor\n",
    "# fh = fs.open(path, flags)\n",
    "\n",
    "# # Write data to the file at the specified path\n",
    "# # Since GCS doesn't support file descriptors, we ignore the 'fh' in the actual write call\n",
    "# written_bytes = fs.write(path, data.encode(), 0, fh)\n",
    "\n",
    "# print(f\"Written {written_bytes} bytes to the file.\")"
   ]
  },
  {
   "cell_type": "code",
   "execution_count": 79,
   "id": "0e8fd551",
   "metadata": {},
   "outputs": [],
   "source": [
    "# size = 1024                 # Number of bytes you want to read\n",
    "# offset = 0                  # Offset from where you want to start reading\n",
    "\n",
    "# data_read = fs.read(path, size, offset, fh)\n",
    "# print(data_read)"
   ]
  },
  {
   "cell_type": "code",
   "execution_count": 78,
   "id": "0b0e29c4",
   "metadata": {},
   "outputs": [],
   "source": [
    "# data_to_write = b\"Hello, GCS!\"\n",
    "# fs.write('/mnt/yourfile.txt', data_to_write, offset=0, fh=None)"
   ]
  },
  {
   "cell_type": "code",
   "execution_count": 77,
   "id": "9c110681",
   "metadata": {},
   "outputs": [],
   "source": [
    "# data_read = fs.read('/mnt/yourfile.txt', size=1024, offset=0, fh=None)\n",
    "# print(data_read)"
   ]
  },
  {
   "cell_type": "code",
   "execution_count": 76,
   "id": "a28263f0",
   "metadata": {
    "scrolled": false
   },
   "outputs": [],
   "source": [
    "# path = '/mnt/yourfile.txt'\n",
    "# flags = os.O_WRONLY\n",
    "\n",
    "# try:\n",
    "#     fh = fs.open(path, flags)\n",
    "#     print(f\"File handle: {fh}\")\n",
    "# except FuseOSError as e:\n",
    "#     print(f\"Error opening file: {e}\")"
   ]
  },
  {
   "cell_type": "code",
   "execution_count": null,
   "id": "411d4c3a",
   "metadata": {},
   "outputs": [],
   "source": []
  },
  {
   "cell_type": "code",
   "execution_count": null,
   "id": "d5c7f7cb",
   "metadata": {},
   "outputs": [],
   "source": []
  }
 ],
 "metadata": {
  "kernelspec": {
   "display_name": "Python 3 (ipykernel)",
   "language": "python",
   "name": "python3"
  },
  "language_info": {
   "codemirror_mode": {
    "name": "ipython",
    "version": 3
   },
   "file_extension": ".py",
   "mimetype": "text/x-python",
   "name": "python",
   "nbconvert_exporter": "python",
   "pygments_lexer": "ipython3",
   "version": "3.9.18"
  }
 },
 "nbformat": 4,
 "nbformat_minor": 5
}
